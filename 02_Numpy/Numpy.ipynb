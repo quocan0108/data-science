{
 "cells": [
  {
   "cell_type": "markdown",
   "id": "042f085e-417a-45c5-b34a-3b73706a0ee8",
   "metadata": {},
   "source": [
    "# Import Numpy"
   ]
  },
  {
   "cell_type": "code",
   "execution_count": 1,
   "id": "16a0de91-eef0-4457-b238-b1e93291fee4",
   "metadata": {},
   "outputs": [],
   "source": [
    "import numpy as np"
   ]
  },
  {
   "cell_type": "markdown",
   "id": "283ac730-1a52-4be2-88b5-ed1d1c9ad51d",
   "metadata": {},
   "source": [
    "# Create Numpy Arrays from Python Lists"
   ]
  },
  {
   "cell_type": "code",
   "execution_count": 2,
   "id": "73b752e9-4ade-4a65-8e84-46300226d2ef",
   "metadata": {},
   "outputs": [
    {
     "data": {
      "text/plain": [
       "array([1, 2, 3, 4])"
      ]
     },
     "execution_count": 2,
     "metadata": {},
     "output_type": "execute_result"
    }
   ],
   "source": [
    "np.array([1, 2, 3, 4])"
   ]
  },
  {
   "cell_type": "code",
   "execution_count": 3,
   "id": "23c7e0b1-1cfb-4731-8305-ea170964c701",
   "metadata": {},
   "outputs": [
    {
     "data": {
      "text/plain": [
       "[3.14, 4, 3]"
      ]
     },
     "execution_count": 3,
     "metadata": {},
     "output_type": "execute_result"
    }
   ],
   "source": [
    "[3.14, 4, 3]"
   ]
  },
  {
   "cell_type": "code",
   "execution_count": 4,
   "id": "76de39a1-bd4c-48be-a008-b620545d6b44",
   "metadata": {},
   "outputs": [
    {
     "data": {
      "text/plain": [
       "array([3.14, 4.  , 3.  ])"
      ]
     },
     "execution_count": 4,
     "metadata": {},
     "output_type": "execute_result"
    }
   ],
   "source": [
    "np.array([3.14, 4, 3])"
   ]
  },
  {
   "cell_type": "code",
   "execution_count": 5,
   "id": "6b2bc951-1f00-4461-99c4-31ac3e3f5f00",
   "metadata": {},
   "outputs": [
    {
     "data": {
      "text/plain": [
       "array([1., 2., 3., 4.], dtype=float32)"
      ]
     },
     "execution_count": 5,
     "metadata": {},
     "output_type": "execute_result"
    }
   ],
   "source": [
    "np.array([1, 2, 3, 4], dtype = 'float32')"
   ]
  },
  {
   "cell_type": "code",
   "execution_count": 6,
   "id": "ef84bced-fccb-4e1a-94ec-5fc3d34f05c1",
   "metadata": {},
   "outputs": [],
   "source": [
    "a1 = np.array([1, 2, 3, 4])"
   ]
  },
  {
   "cell_type": "code",
   "execution_count": 7,
   "id": "41aa7865-df2d-4149-a525-b85e1a02e123",
   "metadata": {},
   "outputs": [
    {
     "data": {
      "text/plain": [
       "numpy.ndarray"
      ]
     },
     "execution_count": 7,
     "metadata": {},
     "output_type": "execute_result"
    }
   ],
   "source": [
    "type(a1)"
   ]
  },
  {
   "cell_type": "code",
   "execution_count": 8,
   "id": "2b2bcb23-d64f-4b43-89a2-5f7ac70bc2e4",
   "metadata": {},
   "outputs": [],
   "source": [
    "a2 = np.array([[1, 2, 3], \n",
    "              [4, 5, 6]])"
   ]
  },
  {
   "cell_type": "code",
   "execution_count": 9,
   "id": "0bfb9ecc-e112-497e-9095-cd302fbbec84",
   "metadata": {},
   "outputs": [
    {
     "data": {
      "text/plain": [
       "numpy.ndarray"
      ]
     },
     "execution_count": 9,
     "metadata": {},
     "output_type": "execute_result"
    }
   ],
   "source": [
    "type(a2)"
   ]
  },
  {
   "cell_type": "code",
   "execution_count": 10,
   "id": "cf7a1316-5bb9-4041-ae7d-f3c577b4cc61",
   "metadata": {},
   "outputs": [
    {
     "data": {
      "text/plain": [
       "(2, 3)"
      ]
     },
     "execution_count": 10,
     "metadata": {},
     "output_type": "execute_result"
    }
   ],
   "source": [
    "a2.shape"
   ]
  },
  {
   "cell_type": "code",
   "execution_count": 11,
   "id": "43285cf7-f81d-4af2-b0d2-5723c3e562ad",
   "metadata": {},
   "outputs": [
    {
     "data": {
      "text/plain": [
       "2"
      ]
     },
     "execution_count": 11,
     "metadata": {},
     "output_type": "execute_result"
    }
   ],
   "source": [
    "a2.ndim"
   ]
  },
  {
   "cell_type": "code",
   "execution_count": 12,
   "id": "b99e32b3-1f19-430d-9120-28867191c7aa",
   "metadata": {},
   "outputs": [
    {
     "data": {
      "text/plain": [
       "dtype('int32')"
      ]
     },
     "execution_count": 12,
     "metadata": {},
     "output_type": "execute_result"
    }
   ],
   "source": [
    "a2.dtype"
   ]
  },
  {
   "cell_type": "code",
   "execution_count": 13,
   "id": "27ab2ae5-5ff0-4d75-9f6e-e04cf7188970",
   "metadata": {},
   "outputs": [
    {
     "data": {
      "text/plain": [
       "6"
      ]
     },
     "execution_count": 13,
     "metadata": {},
     "output_type": "execute_result"
    }
   ],
   "source": [
    "a2.size"
   ]
  },
  {
   "cell_type": "markdown",
   "id": "08c20b84-046d-44f6-8704-d21518f022dc",
   "metadata": {},
   "source": [
    "# Create Numpy Arrays from Scratch"
   ]
  },
  {
   "cell_type": "markdown",
   "id": "893ded75-5fc9-467b-8be4-d739919b0a55",
   "metadata": {},
   "source": [
    "### `zeros`, `ones`, `full`, `arrange`, `linspace`"
   ]
  },
  {
   "cell_type": "code",
   "execution_count": 14,
   "id": "e7c47a45-d0b7-490a-b231-f50242e38e11",
   "metadata": {},
   "outputs": [
    {
     "data": {
      "text/plain": [
       "array([[0., 0., 0., 0.],\n",
       "       [0., 0., 0., 0.]])"
      ]
     },
     "execution_count": 14,
     "metadata": {},
     "output_type": "execute_result"
    }
   ],
   "source": [
    "np.zeros([2, 4])"
   ]
  },
  {
   "cell_type": "code",
   "execution_count": 15,
   "id": "ad2c8706-4aa6-4eb8-8887-5dedc4c6c8c5",
   "metadata": {},
   "outputs": [
    {
     "data": {
      "text/plain": [
       "dtype('float64')"
      ]
     },
     "execution_count": 15,
     "metadata": {},
     "output_type": "execute_result"
    }
   ],
   "source": [
    "np.zeros([2, 4]).dtype"
   ]
  },
  {
   "cell_type": "code",
   "execution_count": 16,
   "id": "099a47e9-e871-487f-abe8-c3f219b93897",
   "metadata": {},
   "outputs": [
    {
     "data": {
      "text/plain": [
       "array([[0, 0, 0, 0],\n",
       "       [0, 0, 0, 0]])"
      ]
     },
     "execution_count": 16,
     "metadata": {},
     "output_type": "execute_result"
    }
   ],
   "source": [
    "np.zeros([2, 4], dtype = int)"
   ]
  },
  {
   "cell_type": "code",
   "execution_count": 17,
   "id": "ffcb133c-74f7-4560-9fa2-2276c4500022",
   "metadata": {},
   "outputs": [
    {
     "data": {
      "text/plain": [
       "array([[1., 1., 1., 1., 1.],\n",
       "       [1., 1., 1., 1., 1.],\n",
       "       [1., 1., 1., 1., 1.]])"
      ]
     },
     "execution_count": 17,
     "metadata": {},
     "output_type": "execute_result"
    }
   ],
   "source": [
    "np.ones((3, 5), dtype = float)"
   ]
  },
  {
   "cell_type": "code",
   "execution_count": 18,
   "id": "26338302-1a34-4b01-ac89-b534bbd1b04d",
   "metadata": {},
   "outputs": [
    {
     "data": {
      "text/plain": [
       "array([ 0,  2,  4,  6,  8, 10, 12, 14, 16, 18])"
      ]
     },
     "execution_count": 18,
     "metadata": {},
     "output_type": "execute_result"
    }
   ],
   "source": [
    "# Create an array filled with a linear sequence\n",
    "# Starting at 0, ending at 20, stepping by 2 \n",
    "# (this is similar to the built-in range() function)\n",
    "np.arange(0, 20, 2)"
   ]
  },
  {
   "cell_type": "code",
   "execution_count": 19,
   "id": "4897cb64-db0d-4377-83c2-98b39a5db260",
   "metadata": {},
   "outputs": [
    {
     "data": {
      "text/plain": [
       "array([[6.9, 6.9, 6.9, 6.9, 6.9],\n",
       "       [6.9, 6.9, 6.9, 6.9, 6.9],\n",
       "       [6.9, 6.9, 6.9, 6.9, 6.9]])"
      ]
     },
     "execution_count": 19,
     "metadata": {},
     "output_type": "execute_result"
    }
   ],
   "source": [
    "np.full((3, 5), 6.9)"
   ]
  },
  {
   "cell_type": "code",
   "execution_count": 20,
   "id": "7526b85e-df4d-4b35-abbd-78e83d7ab6d0",
   "metadata": {},
   "outputs": [
    {
     "data": {
      "text/plain": [
       "array([0.  , 0.25, 0.5 , 0.75, 1.  ])"
      ]
     },
     "execution_count": 20,
     "metadata": {},
     "output_type": "execute_result"
    }
   ],
   "source": [
    "# Create an array of five values evenly spaced between 0 and 1\n",
    "np.linspace(0, 1, 5)"
   ]
  },
  {
   "cell_type": "markdown",
   "id": "bafcfb1c-778a-438c-a79b-7f2f2a2829ca",
   "metadata": {},
   "source": [
    "### `random`"
   ]
  },
  {
   "cell_type": "code",
   "execution_count": 21,
   "id": "5abebfa6-f407-4256-acd7-61d406259244",
   "metadata": {},
   "outputs": [
    {
     "data": {
      "text/plain": [
       "array([[0.00645162, 0.95173629, 0.9872604 , 0.01263854],\n",
       "       [0.04783158, 0.2134431 , 0.03070948, 0.84922829],\n",
       "       [0.71428104, 0.56601119, 0.54079651, 0.96731983],\n",
       "       [0.17440366, 0.0029429 , 0.68206886, 0.28028879]])"
      ]
     },
     "execution_count": 21,
     "metadata": {},
     "output_type": "execute_result"
    }
   ],
   "source": [
    "np.random.random((4, 4))"
   ]
  },
  {
   "cell_type": "code",
   "execution_count": 22,
   "id": "ba2b784f-6c74-4525-aaee-03c97549865d",
   "metadata": {},
   "outputs": [
    {
     "data": {
      "text/plain": [
       "array([[0.81644417, 0.34017932, 0.41471007, 0.35079028],\n",
       "       [0.26638915, 0.69523367, 0.87179104, 0.07232023],\n",
       "       [0.83376942, 0.0510018 , 0.45480889, 0.30682616],\n",
       "       [0.33549399, 0.86039889, 0.30773216, 0.59886265]])"
      ]
     },
     "execution_count": 22,
     "metadata": {},
     "output_type": "execute_result"
    }
   ],
   "source": [
    "np.random.random((4, 4))"
   ]
  },
  {
   "cell_type": "code",
   "execution_count": 31,
   "id": "2a7f2754-6ae2-4f14-a30c-590e09db9011",
   "metadata": {},
   "outputs": [
    {
     "data": {
      "text/plain": [
       "array([[0.5488135 , 0.71518937, 0.60276338, 0.54488318],\n",
       "       [0.4236548 , 0.64589411, 0.43758721, 0.891773  ],\n",
       "       [0.96366276, 0.38344152, 0.79172504, 0.52889492],\n",
       "       [0.56804456, 0.92559664, 0.07103606, 0.0871293 ]])"
      ]
     },
     "execution_count": 31,
     "metadata": {},
     "output_type": "execute_result"
    }
   ],
   "source": [
    "# Seed for reproducibility\n",
    "np.random.seed(0)\n",
    "np.random.random((4, 4))"
   ]
  },
  {
   "cell_type": "code",
   "execution_count": 32,
   "id": "6745417e-0aa6-4b87-b67d-a5d4cad19825",
   "metadata": {},
   "outputs": [
    {
     "data": {
      "text/plain": [
       "array([[ 0.44386323,  0.33367433,  1.49407907],\n",
       "       [-0.20515826,  0.3130677 , -0.85409574],\n",
       "       [-2.55298982,  0.6536186 ,  0.8644362 ]])"
      ]
     },
     "execution_count": 32,
     "metadata": {},
     "output_type": "execute_result"
    }
   ],
   "source": [
    "np.random.normal(0, 1, (3, 3))"
   ]
  },
  {
   "cell_type": "code",
   "execution_count": 33,
   "id": "34b4a01c-39ab-44ea-bd86-53a5e936413a",
   "metadata": {},
   "outputs": [
    {
     "data": {
      "text/plain": [
       "array([[4, 2, 0, 0, 4],\n",
       "       [0, 4, 1, 4, 1],\n",
       "       [2, 2, 0, 1, 1],\n",
       "       [1, 1, 3, 3, 2]])"
      ]
     },
     "execution_count": 33,
     "metadata": {},
     "output_type": "execute_result"
    }
   ],
   "source": [
    "np.random.randint(0, 5, (4,5))"
   ]
  },
  {
   "cell_type": "code",
   "execution_count": 34,
   "id": "732e3c7e-c0ab-4aca-90cb-386a5d4f71ab",
   "metadata": {},
   "outputs": [
    {
     "data": {
      "text/plain": [
       "array([[0.1289263 , 0.31542835, 0.36371077, 0.57019677],\n",
       "       [0.43860151, 0.98837384, 0.10204481, 0.20887676],\n",
       "       [0.16130952, 0.65310833, 0.2532916 , 0.46631077],\n",
       "       [0.24442559, 0.15896958, 0.11037514, 0.65632959]])"
      ]
     },
     "execution_count": 34,
     "metadata": {},
     "output_type": "execute_result"
    }
   ],
   "source": [
    "np.random.rand(4, 4)"
   ]
  },
  {
   "cell_type": "markdown",
   "id": "66c6ae3a-2a74-46f3-a86d-a8d014621b45",
   "metadata": {},
   "source": [
    "### Array Indexing & Slicing"
   ]
  },
  {
   "cell_type": "markdown",
   "id": "88807343-bb28-4787-9865-e7ff4074fe07",
   "metadata": {},
   "source": [
    "#### One-dimensional subarray"
   ]
  },
  {
   "cell_type": "code",
   "execution_count": 35,
   "id": "86946bdf-648e-4f24-b6b3-73694a969689",
   "metadata": {},
   "outputs": [],
   "source": [
    "x1 = np.random.randint(20, size = 6)"
   ]
  },
  {
   "cell_type": "code",
   "execution_count": 36,
   "id": "69ba3ba9-92ff-4205-8f60-077042892501",
   "metadata": {},
   "outputs": [
    {
     "data": {
      "text/plain": [
       "array([17,  5,  9,  3,  0,  5])"
      ]
     },
     "execution_count": 36,
     "metadata": {},
     "output_type": "execute_result"
    }
   ],
   "source": [
    "x1"
   ]
  },
  {
   "cell_type": "code",
   "execution_count": 37,
   "id": "619a4c45-82a0-42df-b1e6-5c99d72b5708",
   "metadata": {},
   "outputs": [
    {
     "data": {
      "text/plain": [
       "0"
      ]
     },
     "execution_count": 37,
     "metadata": {},
     "output_type": "execute_result"
    }
   ],
   "source": [
    "x1[4]"
   ]
  },
  {
   "cell_type": "code",
   "execution_count": 38,
   "id": "ee1df779-ef11-448c-b2cd-0e2ec399afaa",
   "metadata": {},
   "outputs": [
    {
     "data": {
      "text/plain": [
       "(0, 17)"
      ]
     },
     "execution_count": 38,
     "metadata": {},
     "output_type": "execute_result"
    }
   ],
   "source": [
    "x1[4], x1[0]"
   ]
  },
  {
   "cell_type": "code",
   "execution_count": 39,
   "id": "2810730c-d8e2-40a6-8015-a983fd44e1c2",
   "metadata": {},
   "outputs": [
    {
     "data": {
      "text/plain": [
       "(0, 17, 5)"
      ]
     },
     "execution_count": 39,
     "metadata": {},
     "output_type": "execute_result"
    }
   ],
   "source": [
    "x1[4], x1[0], x1[-1]"
   ]
  },
  {
   "cell_type": "markdown",
   "id": "3bd91613-15af-4f3a-8589-a835edb187fc",
   "metadata": {},
   "source": [
    "#### Multi-dimensional array"
   ]
  },
  {
   "cell_type": "code",
   "execution_count": 40,
   "id": "6d9eea8d-febb-4a35-9fad-5a1f079452f0",
   "metadata": {},
   "outputs": [],
   "source": [
    "x2 = np.random.randint(10, size = (3, 4))"
   ]
  },
  {
   "cell_type": "code",
   "execution_count": 41,
   "id": "a3053836-734b-45b3-8ae9-c44ce90b4bd5",
   "metadata": {},
   "outputs": [
    {
     "data": {
      "text/plain": [
       "array([[0, 1, 2, 4],\n",
       "       [2, 0, 3, 2],\n",
       "       [0, 7, 5, 9]])"
      ]
     },
     "execution_count": 41,
     "metadata": {},
     "output_type": "execute_result"
    }
   ],
   "source": [
    "x2"
   ]
  },
  {
   "cell_type": "code",
   "execution_count": 42,
   "id": "fcac3aac-6f49-4efc-9480-242a5da05c2f",
   "metadata": {},
   "outputs": [
    {
     "data": {
      "text/plain": [
       "3"
      ]
     },
     "execution_count": 42,
     "metadata": {},
     "output_type": "execute_result"
    }
   ],
   "source": [
    "x2[1,2]"
   ]
  },
  {
   "cell_type": "code",
   "execution_count": 43,
   "id": "44bfa0b7-065a-493e-ab09-e0eb6426dd0e",
   "metadata": {},
   "outputs": [],
   "source": [
    "x2[1,2] = 6"
   ]
  },
  {
   "cell_type": "code",
   "execution_count": 44,
   "id": "4a6e8f16-f3ac-4bf1-acf8-e00e1f22ed1c",
   "metadata": {},
   "outputs": [
    {
     "data": {
      "text/plain": [
       "array([[0, 1, 2, 4],\n",
       "       [2, 0, 6, 2],\n",
       "       [0, 7, 5, 9]])"
      ]
     },
     "execution_count": 44,
     "metadata": {},
     "output_type": "execute_result"
    }
   ],
   "source": [
    "x2"
   ]
  },
  {
   "cell_type": "markdown",
   "id": "178d0f1e-4bd3-4708-b24e-e32e01a22a2b",
   "metadata": {},
   "source": [
    "#### Slicing:\n",
    "`x[start:stop:step]`"
   ]
  },
  {
   "cell_type": "code",
   "execution_count": 45,
   "id": "0304199a-3860-46c8-961b-0e6e1196b701",
   "metadata": {},
   "outputs": [
    {
     "data": {
      "text/plain": [
       "array([17,  5,  9,  3,  0,  5])"
      ]
     },
     "execution_count": 45,
     "metadata": {},
     "output_type": "execute_result"
    }
   ],
   "source": [
    "x1"
   ]
  },
  {
   "cell_type": "code",
   "execution_count": 46,
   "id": "3819ff58-425f-4772-8fdf-7c8df4c0a1a4",
   "metadata": {},
   "outputs": [
    {
     "data": {
      "text/plain": [
       "array([17,  5,  9])"
      ]
     },
     "execution_count": 46,
     "metadata": {},
     "output_type": "execute_result"
    }
   ],
   "source": [
    "x1[0:3]"
   ]
  },
  {
   "cell_type": "code",
   "execution_count": 47,
   "id": "4c63dfed-4200-4dab-82fd-348ef2ef6d2a",
   "metadata": {},
   "outputs": [
    {
     "data": {
      "text/plain": [
       "array([9, 3])"
      ]
     },
     "execution_count": 47,
     "metadata": {},
     "output_type": "execute_result"
    }
   ],
   "source": [
    "x1[2:4]"
   ]
  },
  {
   "cell_type": "code",
   "execution_count": 48,
   "id": "7501b773-7389-489e-874f-ccfbd62491a2",
   "metadata": {},
   "outputs": [
    {
     "data": {
      "text/plain": [
       "array([17,  9,  0])"
      ]
     },
     "execution_count": 48,
     "metadata": {},
     "output_type": "execute_result"
    }
   ],
   "source": [
    "# every other element, every 2 step\n",
    "x1[::2]"
   ]
  },
  {
   "cell_type": "code",
   "execution_count": 49,
   "id": "ff75f139-6daf-4c4f-b64c-91e514ea4bd4",
   "metadata": {},
   "outputs": [
    {
     "data": {
      "text/plain": [
       "array([[0, 1, 2, 4],\n",
       "       [2, 0, 6, 2],\n",
       "       [0, 7, 5, 9]])"
      ]
     },
     "execution_count": 49,
     "metadata": {},
     "output_type": "execute_result"
    }
   ],
   "source": [
    "x2"
   ]
  },
  {
   "cell_type": "code",
   "execution_count": 51,
   "id": "a2dec483-c96c-4a55-883a-c2dbc20ff3eb",
   "metadata": {},
   "outputs": [
    {
     "data": {
      "text/plain": [
       "array([[0, 1, 2],\n",
       "       [2, 0, 6]])"
      ]
     },
     "execution_count": 51,
     "metadata": {},
     "output_type": "execute_result"
    }
   ],
   "source": [
    "# two rows, three columns\n",
    "x2[:2,:3]"
   ]
  },
  {
   "cell_type": "code",
   "execution_count": 52,
   "id": "8c9de2b8-36bb-4dbb-83d4-be02ce1aec4f",
   "metadata": {},
   "outputs": [
    {
     "data": {
      "text/plain": [
       "array([[0, 1],\n",
       "       [2, 0],\n",
       "       [0, 7]])"
      ]
     },
     "execution_count": 52,
     "metadata": {},
     "output_type": "execute_result"
    }
   ],
   "source": [
    "x2[:, :2]"
   ]
  },
  {
   "cell_type": "markdown",
   "id": "65c252d6-bec4-443e-b730-6038c8c08ded",
   "metadata": {},
   "source": [
    "## Reshaping of Arrays & Transpose"
   ]
  },
  {
   "cell_type": "code",
   "execution_count": 55,
   "id": "3e2a037e-7c86-4f4c-bbac-7f0f83f763b3",
   "metadata": {},
   "outputs": [
    {
     "data": {
      "text/plain": [
       "(9,)"
      ]
     },
     "execution_count": 55,
     "metadata": {},
     "output_type": "execute_result"
    }
   ],
   "source": [
    "grid = np.arange(1, 10)\n",
    "grid.shape"
   ]
  },
  {
   "cell_type": "code",
   "execution_count": 56,
   "id": "65aa3389-4e3f-4ed4-86a4-442544e108f1",
   "metadata": {},
   "outputs": [
    {
     "data": {
      "text/plain": [
       "array([[1, 2, 3],\n",
       "       [4, 5, 6],\n",
       "       [7, 8, 9]])"
      ]
     },
     "execution_count": 56,
     "metadata": {},
     "output_type": "execute_result"
    }
   ],
   "source": [
    "grid.reshape((3, 3))"
   ]
  },
  {
   "cell_type": "code",
   "execution_count": 57,
   "id": "c54228dd-7747-470e-9cd6-1e59b460666b",
   "metadata": {},
   "outputs": [],
   "source": [
    "x = np.array([1, 2, 3])"
   ]
  },
  {
   "cell_type": "code",
   "execution_count": 58,
   "id": "a0109863-f52c-4a91-a9d3-2f1c6da62d85",
   "metadata": {},
   "outputs": [
    {
     "data": {
      "text/plain": [
       "(3,)"
      ]
     },
     "execution_count": 58,
     "metadata": {},
     "output_type": "execute_result"
    }
   ],
   "source": [
    "x.shape"
   ]
  },
  {
   "cell_type": "code",
   "execution_count": 59,
   "id": "d89039b3-1b82-4911-87e5-8bbe7f71923f",
   "metadata": {},
   "outputs": [
    {
     "data": {
      "text/plain": [
       "(1, 3)"
      ]
     },
     "execution_count": 59,
     "metadata": {},
     "output_type": "execute_result"
    }
   ],
   "source": [
    "x.reshape((1,3)).shape"
   ]
  },
  {
   "cell_type": "code",
   "execution_count": 60,
   "id": "dc50058a-0adf-4d16-bc58-b2e6c2513b44",
   "metadata": {},
   "outputs": [],
   "source": [
    "x = np.array([[1. , 2.], [3. ,4.]])"
   ]
  },
  {
   "cell_type": "code",
   "execution_count": 61,
   "id": "806a41c9-10f4-456e-b228-a977b7ef3616",
   "metadata": {},
   "outputs": [
    {
     "data": {
      "text/plain": [
       "array([[1., 2.],\n",
       "       [3., 4.]])"
      ]
     },
     "execution_count": 61,
     "metadata": {},
     "output_type": "execute_result"
    }
   ],
   "source": [
    "x"
   ]
  },
  {
   "cell_type": "code",
   "execution_count": 62,
   "id": "94199270-40b5-462e-8e4b-6f7526ff4ae7",
   "metadata": {},
   "outputs": [
    {
     "data": {
      "text/plain": [
       "array([[1., 3.],\n",
       "       [2., 4.]])"
      ]
     },
     "execution_count": 62,
     "metadata": {},
     "output_type": "execute_result"
    }
   ],
   "source": [
    "x.T"
   ]
  },
  {
   "cell_type": "markdown",
   "id": "d3a5be57-abf5-4dca-a7cb-f46c9a0849b5",
   "metadata": {},
   "source": [
    "## Array Concatenation and Splitting"
   ]
  },
  {
   "cell_type": "markdown",
   "id": "ea2f5628-e38b-4a2e-a8c8-bb33f96772b0",
   "metadata": {},
   "source": [
    "### Concatenation"
   ]
  },
  {
   "cell_type": "code",
   "execution_count": 65,
   "id": "da014a97-b4f4-4f91-8a33-497b00e0a0a6",
   "metadata": {},
   "outputs": [],
   "source": [
    "x = np.array([1, 2, 3])\n",
    "y = np.array([3, 2, 1])"
   ]
  },
  {
   "cell_type": "code",
   "execution_count": 66,
   "id": "746348da-8067-4adf-b785-793048770d42",
   "metadata": {},
   "outputs": [
    {
     "data": {
      "text/plain": [
       "array([1, 2, 3, 3, 2, 1])"
      ]
     },
     "execution_count": 66,
     "metadata": {},
     "output_type": "execute_result"
    }
   ],
   "source": [
    "np.concatenate((x,y))"
   ]
  },
  {
   "cell_type": "code",
   "execution_count": 70,
   "id": "891b3eda-91e6-4613-bbe8-5c08c7c3cf26",
   "metadata": {},
   "outputs": [
    {
     "data": {
      "text/plain": [
       "array([[1, 2, 3],\n",
       "       [4, 5, 6]])"
      ]
     },
     "execution_count": 70,
     "metadata": {},
     "output_type": "execute_result"
    }
   ],
   "source": [
    "grid = np.array([[1, 2, 3],\n",
    "                [4, 5, 6]])\n",
    "grid"
   ]
  },
  {
   "cell_type": "code",
   "execution_count": 73,
   "id": "73df3adc-f6f8-4e9d-92d8-f5f079973ca6",
   "metadata": {},
   "outputs": [
    {
     "data": {
      "text/plain": [
       "array([[1, 2, 3],\n",
       "       [4, 5, 6],\n",
       "       [1, 2, 3],\n",
       "       [4, 5, 6]])"
      ]
     },
     "execution_count": 73,
     "metadata": {},
     "output_type": "execute_result"
    }
   ],
   "source": [
    "np.concatenate((grid, grid)) # axis = 0 by default"
   ]
  },
  {
   "cell_type": "code",
   "execution_count": 74,
   "id": "8dfb113c-102f-46bb-b9ad-d4d23b9d227d",
   "metadata": {},
   "outputs": [
    {
     "data": {
      "text/plain": [
       "array([[1, 2, 3, 1, 2, 3],\n",
       "       [4, 5, 6, 4, 5, 6]])"
      ]
     },
     "execution_count": 74,
     "metadata": {},
     "output_type": "execute_result"
    }
   ],
   "source": [
    "np.concatenate((grid, grid), axis = 1)"
   ]
  },
  {
   "cell_type": "code",
   "execution_count": 78,
   "id": "428582f2-a8a1-4423-bb17-8f8e3b8525cf",
   "metadata": {},
   "outputs": [],
   "source": [
    "# vertical stack the arrays: vstack\n",
    "x = np.array([1, 2, 3])\n",
    "grid = np.array([[9, 8, 7],\n",
    "                 [6, 5, 4]])"
   ]
  },
  {
   "cell_type": "code",
   "execution_count": 76,
   "id": "48ac5e96-729e-4a31-990f-396410baab5b",
   "metadata": {},
   "outputs": [
    {
     "data": {
      "text/plain": [
       "array([[1, 2, 3],\n",
       "       [9, 8, 7],\n",
       "       [6, 5, 4]])"
      ]
     },
     "execution_count": 76,
     "metadata": {},
     "output_type": "execute_result"
    }
   ],
   "source": [
    "np.vstack((x, grid))"
   ]
  },
  {
   "cell_type": "code",
   "execution_count": 77,
   "id": "55201886-793f-47b0-a278-e56a56dfbabe",
   "metadata": {},
   "outputs": [
    {
     "data": {
      "text/plain": [
       "array([[99,  9,  8,  7],\n",
       "       [99,  6,  5,  4]])"
      ]
     },
     "execution_count": 77,
     "metadata": {},
     "output_type": "execute_result"
    }
   ],
   "source": [
    "# horizontally stack the arrays: hstack\n",
    "y = np.array([[99],\n",
    "            [99]])\n",
    "np.hstack((y, grid))"
   ]
  },
  {
   "cell_type": "markdown",
   "id": "f4478b46-3898-40fe-9931-b76342a2b843",
   "metadata": {},
   "source": [
    "### Splitting of arrays"
   ]
  },
  {
   "cell_type": "code",
   "execution_count": 79,
   "id": "50c843fc-5b46-49d9-91ff-302366202f81",
   "metadata": {},
   "outputs": [],
   "source": [
    "x = np.array([1, 2, 3, 99, 69, 3, 2, 1])"
   ]
  },
  {
   "cell_type": "code",
   "execution_count": 80,
   "id": "7b984463-2573-4a0e-95fd-f42dfde288e3",
   "metadata": {},
   "outputs": [
    {
     "data": {
      "text/plain": [
       "[array([1, 2, 3]), array([99, 69]), array([3, 2, 1])]"
      ]
     },
     "execution_count": 80,
     "metadata": {},
     "output_type": "execute_result"
    }
   ],
   "source": [
    "np.split(x, [3, 5])"
   ]
  },
  {
   "cell_type": "code",
   "execution_count": 83,
   "id": "3368d96e-00dd-40a9-bd78-3625b8e3c1c6",
   "metadata": {},
   "outputs": [
    {
     "data": {
      "text/plain": [
       "array([1, 2, 3])"
      ]
     },
     "execution_count": 83,
     "metadata": {},
     "output_type": "execute_result"
    }
   ],
   "source": [
    "x1, x2, x3 = np.split(x, [3, 5])\n",
    "x1"
   ]
  },
  {
   "cell_type": "code",
   "execution_count": 84,
   "id": "df1ee195-676a-4264-bd74-d42c07130d28",
   "metadata": {},
   "outputs": [
    {
     "data": {
      "text/plain": [
       "array([99, 69])"
      ]
     },
     "execution_count": 84,
     "metadata": {},
     "output_type": "execute_result"
    }
   ],
   "source": [
    "x2"
   ]
  },
  {
   "cell_type": "code",
   "execution_count": 85,
   "id": "f048850b-e1ef-4fba-a843-339f3f829df8",
   "metadata": {},
   "outputs": [
    {
     "data": {
      "text/plain": [
       "array([3, 2, 1])"
      ]
     },
     "execution_count": 85,
     "metadata": {},
     "output_type": "execute_result"
    }
   ],
   "source": [
    "x3"
   ]
  },
  {
   "cell_type": "markdown",
   "id": "3fefd21c-2c98-4022-8061-85033e9d9c99",
   "metadata": {},
   "source": [
    "## Broadcasting and Vectorized operations"
   ]
  },
  {
   "cell_type": "markdown",
   "id": "940289e4-d29d-4916-90ec-3d54edaa7f38",
   "metadata": {},
   "source": [
    "### Broadcasting"
   ]
  },
  {
   "cell_type": "code",
   "execution_count": 86,
   "id": "27fb4dbc-c947-428a-b27b-ccfc844f615c",
   "metadata": {},
   "outputs": [],
   "source": [
    "a = np.arange(3)"
   ]
  },
  {
   "cell_type": "code",
   "execution_count": 87,
   "id": "da8cdd17-2c32-464f-b3bf-ab5ba83e42f8",
   "metadata": {},
   "outputs": [
    {
     "data": {
      "text/plain": [
       "array([0, 1, 2])"
      ]
     },
     "execution_count": 87,
     "metadata": {},
     "output_type": "execute_result"
    }
   ],
   "source": [
    "a"
   ]
  },
  {
   "cell_type": "code",
   "execution_count": 88,
   "id": "ec13c76f-b3e6-413d-8b47-a76864d5a484",
   "metadata": {},
   "outputs": [
    {
     "data": {
      "text/plain": [
       "array([5, 6, 7])"
      ]
     },
     "execution_count": 88,
     "metadata": {},
     "output_type": "execute_result"
    }
   ],
   "source": [
    "a + 5"
   ]
  },
  {
   "cell_type": "code",
   "execution_count": 90,
   "id": "b68b3039-a2ad-439d-a9ee-1513592d8455",
   "metadata": {},
   "outputs": [],
   "source": [
    "b = np.ones((3,3))"
   ]
  },
  {
   "cell_type": "code",
   "execution_count": 91,
   "id": "605f0e3f-0ce1-4c48-93b0-f1c8d841491d",
   "metadata": {},
   "outputs": [
    {
     "data": {
      "text/plain": [
       "array([[1., 1., 1.],\n",
       "       [1., 1., 1.],\n",
       "       [1., 1., 1.]])"
      ]
     },
     "execution_count": 91,
     "metadata": {},
     "output_type": "execute_result"
    }
   ],
   "source": [
    "b"
   ]
  },
  {
   "cell_type": "code",
   "execution_count": 92,
   "id": "8c4de549-2485-4198-8550-795d14cf8de2",
   "metadata": {},
   "outputs": [
    {
     "data": {
      "text/plain": [
       "((3,), (3, 3))"
      ]
     },
     "execution_count": 92,
     "metadata": {},
     "output_type": "execute_result"
    }
   ],
   "source": [
    "a.shape, b.shape"
   ]
  },
  {
   "cell_type": "code",
   "execution_count": 93,
   "id": "7051411d-670e-4bf9-9607-4dee090a2a84",
   "metadata": {},
   "outputs": [
    {
     "data": {
      "text/plain": [
       "array([[1., 2., 3.],\n",
       "       [1., 2., 3.],\n",
       "       [1., 2., 3.]])"
      ]
     },
     "execution_count": 93,
     "metadata": {},
     "output_type": "execute_result"
    }
   ],
   "source": [
    "a + b"
   ]
  },
  {
   "cell_type": "code",
   "execution_count": 94,
   "id": "c95a4cec-8940-4811-b3f5-b558dee92be3",
   "metadata": {},
   "outputs": [
    {
     "data": {
      "text/plain": [
       "array([[0., 1., 2.],\n",
       "       [0., 1., 2.],\n",
       "       [0., 1., 2.]])"
      ]
     },
     "execution_count": 94,
     "metadata": {},
     "output_type": "execute_result"
    }
   ],
   "source": [
    "a*b"
   ]
  },
  {
   "cell_type": "code",
   "execution_count": 95,
   "id": "d95cb089-03b8-40d7-b875-b4a638596512",
   "metadata": {},
   "outputs": [],
   "source": [
    "c = np.arange(3).reshape((3,1))"
   ]
  },
  {
   "cell_type": "code",
   "execution_count": 96,
   "id": "33b1d2ef-1636-4c78-ba04-809597d06706",
   "metadata": {},
   "outputs": [
    {
     "data": {
      "text/plain": [
       "array([[0],\n",
       "       [1],\n",
       "       [2]])"
      ]
     },
     "execution_count": 96,
     "metadata": {},
     "output_type": "execute_result"
    }
   ],
   "source": [
    "c"
   ]
  },
  {
   "cell_type": "code",
   "execution_count": 97,
   "id": "e0dc1181-9eb6-4673-8db6-f7e6fec91a87",
   "metadata": {},
   "outputs": [
    {
     "data": {
      "text/plain": [
       "array([[0, 1, 2],\n",
       "       [1, 2, 3],\n",
       "       [2, 3, 4]])"
      ]
     },
     "execution_count": 97,
     "metadata": {},
     "output_type": "execute_result"
    }
   ],
   "source": [
    "c + a"
   ]
  },
  {
   "cell_type": "markdown",
   "id": "7fc66914-3659-48ad-8338-0964885b15ed",
   "metadata": {},
   "source": [
    "## Manipulating & Comparing Arrays"
   ]
  },
  {
   "cell_type": "markdown",
   "id": "936f0f72-4322-4b6b-93f1-0570263af742",
   "metadata": {},
   "source": [
    "### Aggregation\n",
    "Aggregation = perform the same operation on a number of things"
   ]
  },
  {
   "cell_type": "code",
   "execution_count": 98,
   "id": "2fa3eb76-0b84-4742-98bd-d12cb1c152f3",
   "metadata": {},
   "outputs": [],
   "source": [
    "list_number = [1, 2, 3]"
   ]
  },
  {
   "cell_type": "code",
   "execution_count": 99,
   "id": "f6eb86b3-9fd6-40d3-81f8-f8a45606c8aa",
   "metadata": {},
   "outputs": [],
   "source": [
    "ll = np.array(list_number)"
   ]
  },
  {
   "cell_type": "code",
   "execution_count": 100,
   "id": "a0c012de-3b04-45d3-8860-aa88ed9eadd3",
   "metadata": {},
   "outputs": [
    {
     "data": {
      "text/plain": [
       "array([1, 2, 3])"
      ]
     },
     "execution_count": 100,
     "metadata": {},
     "output_type": "execute_result"
    }
   ],
   "source": [
    "ll"
   ]
  },
  {
   "cell_type": "code",
   "execution_count": 102,
   "id": "abc5ac2e-d14d-4b15-99e9-3c01351bbb8a",
   "metadata": {},
   "outputs": [
    {
     "data": {
      "text/plain": [
       "6"
      ]
     },
     "execution_count": 102,
     "metadata": {},
     "output_type": "execute_result"
    }
   ],
   "source": [
    "sum(ll) # python sum()"
   ]
  },
  {
   "cell_type": "code",
   "execution_count": 103,
   "id": "0e2c4945-6c45-487b-ba48-f631d7d3d422",
   "metadata": {},
   "outputs": [
    {
     "data": {
      "text/plain": [
       "6"
      ]
     },
     "execution_count": 103,
     "metadata": {},
     "output_type": "execute_result"
    }
   ],
   "source": [
    "np.sum(ll) # numpy sum()"
   ]
  },
  {
   "cell_type": "code",
   "execution_count": 106,
   "id": "6b90409b-0ef1-454b-8541-92fd12f28e7e",
   "metadata": {},
   "outputs": [
    {
     "data": {
      "text/plain": [
       "(10000,)"
      ]
     },
     "execution_count": 106,
     "metadata": {},
     "output_type": "execute_result"
    }
   ],
   "source": [
    "# Create a massive Numpy array\n",
    "massive_array = np.random.random(10000)\n",
    "massive_array[:5]\n",
    "massive_array.shape"
   ]
  },
  {
   "cell_type": "code",
   "execution_count": 110,
   "id": "9ec15197-3c64-4b5f-bad4-4532fec37cad",
   "metadata": {},
   "outputs": [
    {
     "name": "stdout",
     "output_type": "stream",
     "text": [
      "917 µs ± 15.3 µs per loop (mean ± std. dev. of 7 runs, 100 loops each)\n",
      "10.2 µs ± 2.05 µs per loop (mean ± std. dev. of 7 runs, 100,000 loops each)\n"
     ]
    }
   ],
   "source": [
    "%timeit sum(massive_array) # python built-in function sum()\n",
    "%timeit np.sum(massive_array) # numpy's np.sum()"
   ]
  },
  {
   "cell_type": "code",
   "execution_count": 111,
   "id": "f00a5224-366b-4d4b-af5c-b446cf225789",
   "metadata": {},
   "outputs": [
    {
     "data": {
      "text/plain": [
       "0.5052960250326816"
      ]
     },
     "execution_count": 111,
     "metadata": {},
     "output_type": "execute_result"
    }
   ],
   "source": [
    "np.mean(massive_array)"
   ]
  },
  {
   "cell_type": "code",
   "execution_count": 112,
   "id": "4699350e-62e2-45ad-99ac-7c5ba15588bd",
   "metadata": {},
   "outputs": [
    {
     "data": {
      "text/plain": [
       "0.999685002639177"
      ]
     },
     "execution_count": 112,
     "metadata": {},
     "output_type": "execute_result"
    }
   ],
   "source": [
    "np.max(massive_array)"
   ]
  },
  {
   "cell_type": "code",
   "execution_count": 113,
   "id": "8957bb56-dd84-4554-b2b9-81daabdff56a",
   "metadata": {},
   "outputs": [
    {
     "data": {
      "text/plain": [
       "0.0002078643980524264"
      ]
     },
     "execution_count": 113,
     "metadata": {},
     "output_type": "execute_result"
    }
   ],
   "source": [
    "np.min(massive_array)"
   ]
  },
  {
   "cell_type": "markdown",
   "id": "50e5487e-4f49-4ba7-bce8-ed00057270df",
   "metadata": {},
   "source": [
    "## Standard Deviation and Variance"
   ]
  },
  {
   "cell_type": "markdown",
   "id": "9adfc7aa-2c8b-4805-8bf0-4211b711670a",
   "metadata": {},
   "source": [
    "### Standard Deviation\n",
    "(độ lệch chuẩn)"
   ]
  },
  {
   "cell_type": "code",
   "execution_count": null,
   "id": "3f998572-4caa-4fd3-9eec-40f155c53e98",
   "metadata": {},
   "outputs": [],
   "source": [
    "# Standard deviation = a measure of how spread out a group of numbers is from the mean\n",
    "# Standard deviation = square root of Variance"
   ]
  },
  {
   "cell_type": "markdown",
   "id": "3885b588-f2fc-491e-9952-4c8c415827fb",
   "metadata": {},
   "source": [
    "### Variance\n",
    "(phương sai)"
   ]
  },
  {
   "cell_type": "code",
   "execution_count": 114,
   "id": "ae9dce83-94eb-4a7a-9ac6-53f220811640",
   "metadata": {},
   "outputs": [],
   "source": [
    "# Variance = measure of the average degree to which each number is different to the mean\n",
    "# Higher variance = wider range of numbers\n",
    "# Lower variance = lower range of numbers"
   ]
  },
  {
   "cell_type": "code",
   "execution_count": 115,
   "id": "dada0a85-d733-4ae4-8707-d18dbe8a536d",
   "metadata": {},
   "outputs": [
    {
     "data": {
      "text/plain": [
       "147.32277488562318"
      ]
     },
     "execution_count": 115,
     "metadata": {},
     "output_type": "execute_result"
    }
   ],
   "source": [
    "dog_height = [600, 470, 170, 430, 300]\n",
    "dog_height = np.array(dog_height)\n",
    "\n",
    "np.std(dog_height)"
   ]
  },
  {
   "cell_type": "code",
   "execution_count": 116,
   "id": "f9a5532f-0012-4b0e-a449-02b4424fad75",
   "metadata": {},
   "outputs": [
    {
     "data": {
      "text/plain": [
       "21704.0"
      ]
     },
     "execution_count": 116,
     "metadata": {},
     "output_type": "execute_result"
    }
   ],
   "source": [
    "np.var(dog_height)"
   ]
  },
  {
   "cell_type": "code",
   "execution_count": 117,
   "id": "32c61658-d25f-4154-933c-f5f4b767dc0e",
   "metadata": {},
   "outputs": [
    {
     "data": {
      "text/plain": [
       "147.32277488562318"
      ]
     },
     "execution_count": 117,
     "metadata": {},
     "output_type": "execute_result"
    }
   ],
   "source": [
    "np.sqrt(np.var(dog_height))"
   ]
  },
  {
   "cell_type": "markdown",
   "id": "1386be9e-f706-47e3-8cf4-1606ee887b36",
   "metadata": {},
   "source": [
    "## Sorting Arrays\n",
    "np.sort uses an quicksort algorithm"
   ]
  },
  {
   "cell_type": "code",
   "execution_count": 118,
   "id": "b0c23565-2349-4591-95f1-aed54397c128",
   "metadata": {},
   "outputs": [
    {
     "data": {
      "text/plain": [
       "array([1, 2, 3, 4, 5])"
      ]
     },
     "execution_count": 118,
     "metadata": {},
     "output_type": "execute_result"
    }
   ],
   "source": [
    "x = np.array([2, 1, 4, 3, 5])\n",
    "np.sort(x)"
   ]
  },
  {
   "cell_type": "code",
   "execution_count": 119,
   "id": "c3d74d49-fd1d-487c-9ee6-a21a5b749706",
   "metadata": {},
   "outputs": [
    {
     "data": {
      "text/plain": [
       "array([1, 0, 3, 2, 4], dtype=int64)"
      ]
     },
     "execution_count": 119,
     "metadata": {},
     "output_type": "execute_result"
    }
   ],
   "source": [
    "# A related function is argsort, which instead returns the indices of the sorted elements:\n",
    "np.argsort(x)"
   ]
  },
  {
   "cell_type": "markdown",
   "id": "ca53d300-f719-47e9-807d-d6b10e828639",
   "metadata": {},
   "source": [
    "### Sorting along rows or columns\n",
    "NumPy's sorting algorithms is the ability to sort along specific rows or columns of a multidimensional array using the axis argument"
   ]
  },
  {
   "cell_type": "code",
   "execution_count": 120,
   "id": "d66e3ddd-8d70-4681-bcd4-94aef214227b",
   "metadata": {},
   "outputs": [],
   "source": [
    "np.random.seed(42)\n",
    "MatA = np.random.randint(0, 10, size = (4,6))"
   ]
  },
  {
   "cell_type": "code",
   "execution_count": 121,
   "id": "641ed75a-4b03-45cf-97b6-83d49a2432a1",
   "metadata": {},
   "outputs": [
    {
     "data": {
      "text/plain": [
       "array([[6, 3, 7, 4, 6, 9],\n",
       "       [2, 6, 7, 4, 3, 7],\n",
       "       [7, 2, 5, 4, 1, 7],\n",
       "       [5, 1, 4, 0, 9, 5]])"
      ]
     },
     "execution_count": 121,
     "metadata": {},
     "output_type": "execute_result"
    }
   ],
   "source": [
    "MatA"
   ]
  },
  {
   "cell_type": "code",
   "execution_count": 122,
   "id": "26d7af47-ee49-4194-96f4-59bb3a1bfadd",
   "metadata": {},
   "outputs": [
    {
     "data": {
      "text/plain": [
       "array([[2, 1, 4, 0, 1, 5],\n",
       "       [5, 2, 5, 4, 3, 7],\n",
       "       [6, 3, 7, 4, 6, 7],\n",
       "       [7, 6, 7, 4, 9, 9]])"
      ]
     },
     "execution_count": 122,
     "metadata": {},
     "output_type": "execute_result"
    }
   ],
   "source": [
    "np.sort(MatA, axis = 0) # axis = 0 is column sort"
   ]
  },
  {
   "cell_type": "code",
   "execution_count": 123,
   "id": "ba14fe79-2205-4d6f-bf33-c0dc61f0aa37",
   "metadata": {},
   "outputs": [
    {
     "data": {
      "text/plain": [
       "array([[3, 4, 6, 6, 7, 9],\n",
       "       [2, 3, 4, 6, 7, 7],\n",
       "       [1, 2, 4, 5, 7, 7],\n",
       "       [0, 1, 4, 5, 5, 9]])"
      ]
     },
     "execution_count": 123,
     "metadata": {},
     "output_type": "execute_result"
    }
   ],
   "source": [
    "np.sort(MatA, axis = 1) # axis = 1 is row sort"
   ]
  },
  {
   "cell_type": "markdown",
   "id": "6e82e34e-1846-48c6-92a9-7ca223b9c112",
   "metadata": {},
   "source": [
    "## Linear Algebra\n",
    "(Đại số tuyến tính)"
   ]
  },
  {
   "cell_type": "code",
   "execution_count": 124,
   "id": "5fb5e634-9606-4dad-8444-5733eee6bfaa",
   "metadata": {},
   "outputs": [],
   "source": [
    "A = np.array([[1, 2, 3],\n",
    "              [4, 5, 6],\n",
    "              [7, 8, 9]])"
   ]
  },
  {
   "cell_type": "code",
   "execution_count": 125,
   "id": "fe0ff5b1-de2a-4aeb-b73e-a08ecd5d399a",
   "metadata": {},
   "outputs": [],
   "source": [
    "B = np.array([[6, 5],\n",
    "              [4, 3],\n",
    "              [2, 1]])"
   ]
  },
  {
   "cell_type": "code",
   "execution_count": 129,
   "id": "376733d8-ae8a-47e4-94aa-8c3056d339c7",
   "metadata": {},
   "outputs": [],
   "source": [
    "# A(3x3) dot product B(3x2) (tích vô hướng)"
   ]
  },
  {
   "cell_type": "code",
   "execution_count": 127,
   "id": "ec7351c5-512f-42bb-9e91-d7096b810e37",
   "metadata": {},
   "outputs": [
    {
     "data": {
      "text/plain": [
       "array([[20, 14],\n",
       "       [56, 41],\n",
       "       [92, 68]])"
      ]
     },
     "execution_count": 127,
     "metadata": {},
     "output_type": "execute_result"
    }
   ],
   "source": [
    "A.dot(B)"
   ]
  },
  {
   "cell_type": "code",
   "execution_count": 128,
   "id": "a67c981d-0cb4-4a36-b83f-b48bffc0b7b7",
   "metadata": {},
   "outputs": [
    {
     "data": {
      "text/plain": [
       "20"
      ]
     },
     "execution_count": 128,
     "metadata": {},
     "output_type": "execute_result"
    }
   ],
   "source": [
    "1*6 + 2*4 + 3*2"
   ]
  },
  {
   "cell_type": "code",
   "execution_count": 130,
   "id": "8fed6dda-1b77-4071-85af-84659ed4467c",
   "metadata": {},
   "outputs": [
    {
     "data": {
      "text/plain": [
       "array([[20, 14],\n",
       "       [56, 41],\n",
       "       [92, 68]])"
      ]
     },
     "execution_count": 130,
     "metadata": {},
     "output_type": "execute_result"
    }
   ],
   "source": [
    "A @ B"
   ]
  },
  {
   "cell_type": "code",
   "execution_count": 131,
   "id": "80ce0b7b-0aa3-4d9c-9e3b-6f24516384c6",
   "metadata": {},
   "outputs": [
    {
     "data": {
      "text/plain": [
       "array([[6, 4, 2],\n",
       "       [5, 3, 1]])"
      ]
     },
     "execution_count": 131,
     "metadata": {},
     "output_type": "execute_result"
    }
   ],
   "source": [
    "# B(3x2) dot A(3x3)\n",
    "B.T"
   ]
  },
  {
   "cell_type": "code",
   "execution_count": 132,
   "id": "bb360a9d-5a38-4b1b-bf9e-7fa79111b45a",
   "metadata": {},
   "outputs": [
    {
     "data": {
      "text/plain": [
       "array([[36, 48, 60],\n",
       "       [24, 33, 42]])"
      ]
     },
     "execution_count": 132,
     "metadata": {},
     "output_type": "execute_result"
    }
   ],
   "source": [
    "B.T @ A"
   ]
  },
  {
   "cell_type": "markdown",
   "id": "8f19f6dd-4a09-48cc-8849-b6714ebfce53",
   "metadata": {},
   "source": [
    "### Dot Product Example"
   ]
  },
  {
   "cell_type": "code",
   "execution_count": 133,
   "id": "ca110147-ccc0-45e8-b58b-db4a6e475edc",
   "metadata": {},
   "outputs": [],
   "source": [
    "# Number of jars sold\n",
    "np.random.seed(0)\n",
    "sales_amounts = np.random.randint(20, size = (5, 3))"
   ]
  },
  {
   "cell_type": "code",
   "execution_count": 135,
   "id": "1fb8affc-a8f4-4f20-b808-0f38dcf6182e",
   "metadata": {},
   "outputs": [
    {
     "data": {
      "text/plain": [
       "array([[12, 15,  0],\n",
       "       [ 3,  3,  7],\n",
       "       [ 9, 19, 18],\n",
       "       [ 4,  6, 12],\n",
       "       [ 1,  6,  7]])"
      ]
     },
     "execution_count": 135,
     "metadata": {},
     "output_type": "execute_result"
    }
   ],
   "source": [
    "sales_amounts"
   ]
  },
  {
   "cell_type": "code",
   "execution_count": 136,
   "id": "7fc49589-b157-4f79-a447-968625a516f5",
   "metadata": {},
   "outputs": [],
   "source": [
    "# Create weekly_sales DataFrame\n",
    "import pandas as pd\n",
    "weekly_sales = pd.DataFrame(sales_amounts, index = [\"Mon\", \"Tues\", \"Wed\", \"Thurs\", \"Fri\"],\n",
    "                                           columns = [\"Almond Butter\", \"Peanut Butter\", \"Cashew Butter\"])"
   ]
  },
  {
   "cell_type": "code",
   "execution_count": 137,
   "id": "632dcfc3-1ea9-44ca-9515-6eda67feaf56",
   "metadata": {},
   "outputs": [
    {
     "data": {
      "text/html": [
       "<div>\n",
       "<style scoped>\n",
       "    .dataframe tbody tr th:only-of-type {\n",
       "        vertical-align: middle;\n",
       "    }\n",
       "\n",
       "    .dataframe tbody tr th {\n",
       "        vertical-align: top;\n",
       "    }\n",
       "\n",
       "    .dataframe thead th {\n",
       "        text-align: right;\n",
       "    }\n",
       "</style>\n",
       "<table border=\"1\" class=\"dataframe\">\n",
       "  <thead>\n",
       "    <tr style=\"text-align: right;\">\n",
       "      <th></th>\n",
       "      <th>Almond Butter</th>\n",
       "      <th>Peanut Butter</th>\n",
       "      <th>Cashew Butter</th>\n",
       "    </tr>\n",
       "  </thead>\n",
       "  <tbody>\n",
       "    <tr>\n",
       "      <th>Mon</th>\n",
       "      <td>12</td>\n",
       "      <td>15</td>\n",
       "      <td>0</td>\n",
       "    </tr>\n",
       "    <tr>\n",
       "      <th>Tues</th>\n",
       "      <td>3</td>\n",
       "      <td>3</td>\n",
       "      <td>7</td>\n",
       "    </tr>\n",
       "    <tr>\n",
       "      <th>Wed</th>\n",
       "      <td>9</td>\n",
       "      <td>19</td>\n",
       "      <td>18</td>\n",
       "    </tr>\n",
       "    <tr>\n",
       "      <th>Thurs</th>\n",
       "      <td>4</td>\n",
       "      <td>6</td>\n",
       "      <td>12</td>\n",
       "    </tr>\n",
       "    <tr>\n",
       "      <th>Fri</th>\n",
       "      <td>1</td>\n",
       "      <td>6</td>\n",
       "      <td>7</td>\n",
       "    </tr>\n",
       "  </tbody>\n",
       "</table>\n",
       "</div>"
      ],
      "text/plain": [
       "       Almond Butter  Peanut Butter  Cashew Butter\n",
       "Mon               12             15              0\n",
       "Tues               3              3              7\n",
       "Wed                9             19             18\n",
       "Thurs              4              6             12\n",
       "Fri                1              6              7"
      ]
     },
     "execution_count": 137,
     "metadata": {},
     "output_type": "execute_result"
    }
   ],
   "source": [
    "weekly_sales"
   ]
  },
  {
   "cell_type": "code",
   "execution_count": 139,
   "id": "5442227c-ea9e-4397-829c-85a7fb29dcb8",
   "metadata": {},
   "outputs": [],
   "source": [
    "# create a price array\n",
    "prices = np.array([10, 8, 12])"
   ]
  },
  {
   "cell_type": "code",
   "execution_count": 142,
   "id": "ee0e059d-d079-41f3-b2bd-70d42f774076",
   "metadata": {},
   "outputs": [
    {
     "data": {
      "text/plain": [
       "(3,)"
      ]
     },
     "execution_count": 142,
     "metadata": {},
     "output_type": "execute_result"
    }
   ],
   "source": [
    "prices.shape"
   ]
  },
  {
   "cell_type": "code",
   "execution_count": 140,
   "id": "b0b7b833-4b4b-4b9e-961d-3481c7cd687b",
   "metadata": {},
   "outputs": [],
   "source": [
    "butter_prices = pd.DataFrame(prices.reshape(1,3), index = [\"Price\"], columns = [\"Almond Butter\", \"Peanut Butter\", \"Cashew Butter\"])"
   ]
  },
  {
   "cell_type": "code",
   "execution_count": 141,
   "id": "417c3e34-ec82-4653-9052-3b2ea47a9c9f",
   "metadata": {},
   "outputs": [
    {
     "data": {
      "text/html": [
       "<div>\n",
       "<style scoped>\n",
       "    .dataframe tbody tr th:only-of-type {\n",
       "        vertical-align: middle;\n",
       "    }\n",
       "\n",
       "    .dataframe tbody tr th {\n",
       "        vertical-align: top;\n",
       "    }\n",
       "\n",
       "    .dataframe thead th {\n",
       "        text-align: right;\n",
       "    }\n",
       "</style>\n",
       "<table border=\"1\" class=\"dataframe\">\n",
       "  <thead>\n",
       "    <tr style=\"text-align: right;\">\n",
       "      <th></th>\n",
       "      <th>Almond Butter</th>\n",
       "      <th>Peanut Butter</th>\n",
       "      <th>Cashew Butter</th>\n",
       "    </tr>\n",
       "  </thead>\n",
       "  <tbody>\n",
       "    <tr>\n",
       "      <th>Price</th>\n",
       "      <td>10</td>\n",
       "      <td>8</td>\n",
       "      <td>12</td>\n",
       "    </tr>\n",
       "  </tbody>\n",
       "</table>\n",
       "</div>"
      ],
      "text/plain": [
       "       Almond Butter  Peanut Butter  Cashew Butter\n",
       "Price             10              8             12"
      ]
     },
     "execution_count": 141,
     "metadata": {},
     "output_type": "execute_result"
    }
   ],
   "source": [
    "butter_prices"
   ]
  },
  {
   "cell_type": "code",
   "execution_count": 144,
   "id": "e2a07803-0520-41f5-8c05-67a0bd8e875d",
   "metadata": {},
   "outputs": [
    {
     "data": {
      "text/plain": [
       "((5, 3), (3, 1))"
      ]
     },
     "execution_count": 144,
     "metadata": {},
     "output_type": "execute_result"
    }
   ],
   "source": [
    "weekly_sales.shape, butter_prices.T.shape"
   ]
  },
  {
   "cell_type": "code",
   "execution_count": 146,
   "id": "f9a79f5f-8997-424e-83c9-9f7f0df73134",
   "metadata": {},
   "outputs": [],
   "source": [
    "total_prices = weekly_sales.dot(butter_prices.T)"
   ]
  },
  {
   "cell_type": "code",
   "execution_count": 147,
   "id": "1a30b68c-b12b-4dc1-a415-c1ed98ded95c",
   "metadata": {},
   "outputs": [
    {
     "data": {
      "text/html": [
       "<div>\n",
       "<style scoped>\n",
       "    .dataframe tbody tr th:only-of-type {\n",
       "        vertical-align: middle;\n",
       "    }\n",
       "\n",
       "    .dataframe tbody tr th {\n",
       "        vertical-align: top;\n",
       "    }\n",
       "\n",
       "    .dataframe thead th {\n",
       "        text-align: right;\n",
       "    }\n",
       "</style>\n",
       "<table border=\"1\" class=\"dataframe\">\n",
       "  <thead>\n",
       "    <tr style=\"text-align: right;\">\n",
       "      <th></th>\n",
       "      <th>Price</th>\n",
       "    </tr>\n",
       "  </thead>\n",
       "  <tbody>\n",
       "    <tr>\n",
       "      <th>Mon</th>\n",
       "      <td>240</td>\n",
       "    </tr>\n",
       "    <tr>\n",
       "      <th>Tues</th>\n",
       "      <td>138</td>\n",
       "    </tr>\n",
       "    <tr>\n",
       "      <th>Wed</th>\n",
       "      <td>458</td>\n",
       "    </tr>\n",
       "    <tr>\n",
       "      <th>Thurs</th>\n",
       "      <td>232</td>\n",
       "    </tr>\n",
       "    <tr>\n",
       "      <th>Fri</th>\n",
       "      <td>142</td>\n",
       "    </tr>\n",
       "  </tbody>\n",
       "</table>\n",
       "</div>"
      ],
      "text/plain": [
       "       Price\n",
       "Mon      240\n",
       "Tues     138\n",
       "Wed      458\n",
       "Thurs    232\n",
       "Fri      142"
      ]
     },
     "execution_count": 147,
     "metadata": {},
     "output_type": "execute_result"
    }
   ],
   "source": [
    "total_prices"
   ]
  },
  {
   "cell_type": "code",
   "execution_count": 148,
   "id": "5ed1e567-4424-4584-bbf6-dc2dcd578af8",
   "metadata": {},
   "outputs": [],
   "source": [
    "weekly_sales[\"Total Price\"] = total_prices"
   ]
  },
  {
   "cell_type": "code",
   "execution_count": 149,
   "id": "fc4b3f4e-8bc0-4857-ab9e-c8a368821c8c",
   "metadata": {},
   "outputs": [
    {
     "data": {
      "text/html": [
       "<div>\n",
       "<style scoped>\n",
       "    .dataframe tbody tr th:only-of-type {\n",
       "        vertical-align: middle;\n",
       "    }\n",
       "\n",
       "    .dataframe tbody tr th {\n",
       "        vertical-align: top;\n",
       "    }\n",
       "\n",
       "    .dataframe thead th {\n",
       "        text-align: right;\n",
       "    }\n",
       "</style>\n",
       "<table border=\"1\" class=\"dataframe\">\n",
       "  <thead>\n",
       "    <tr style=\"text-align: right;\">\n",
       "      <th></th>\n",
       "      <th>Almond Butter</th>\n",
       "      <th>Peanut Butter</th>\n",
       "      <th>Cashew Butter</th>\n",
       "      <th>Total Price</th>\n",
       "    </tr>\n",
       "  </thead>\n",
       "  <tbody>\n",
       "    <tr>\n",
       "      <th>Mon</th>\n",
       "      <td>12</td>\n",
       "      <td>15</td>\n",
       "      <td>0</td>\n",
       "      <td>240</td>\n",
       "    </tr>\n",
       "    <tr>\n",
       "      <th>Tues</th>\n",
       "      <td>3</td>\n",
       "      <td>3</td>\n",
       "      <td>7</td>\n",
       "      <td>138</td>\n",
       "    </tr>\n",
       "    <tr>\n",
       "      <th>Wed</th>\n",
       "      <td>9</td>\n",
       "      <td>19</td>\n",
       "      <td>18</td>\n",
       "      <td>458</td>\n",
       "    </tr>\n",
       "    <tr>\n",
       "      <th>Thurs</th>\n",
       "      <td>4</td>\n",
       "      <td>6</td>\n",
       "      <td>12</td>\n",
       "      <td>232</td>\n",
       "    </tr>\n",
       "    <tr>\n",
       "      <th>Fri</th>\n",
       "      <td>1</td>\n",
       "      <td>6</td>\n",
       "      <td>7</td>\n",
       "      <td>142</td>\n",
       "    </tr>\n",
       "  </tbody>\n",
       "</table>\n",
       "</div>"
      ],
      "text/plain": [
       "       Almond Butter  Peanut Butter  Cashew Butter  Total Price\n",
       "Mon               12             15              0          240\n",
       "Tues               3              3              7          138\n",
       "Wed                9             19             18          458\n",
       "Thurs              4              6             12          232\n",
       "Fri                1              6              7          142"
      ]
     },
     "execution_count": 149,
     "metadata": {},
     "output_type": "execute_result"
    }
   ],
   "source": [
    "weekly_sales"
   ]
  }
 ],
 "metadata": {
  "kernelspec": {
   "display_name": "Python 3 (ipykernel)",
   "language": "python",
   "name": "python3"
  },
  "language_info": {
   "codemirror_mode": {
    "name": "ipython",
    "version": 3
   },
   "file_extension": ".py",
   "mimetype": "text/x-python",
   "name": "python",
   "nbconvert_exporter": "python",
   "pygments_lexer": "ipython3",
   "version": "3.11.7"
  }
 },
 "nbformat": 4,
 "nbformat_minor": 5
}
